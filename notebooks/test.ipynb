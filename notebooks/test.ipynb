{
 "cells": [
  {
   "cell_type": "code",
   "execution_count": 1,
   "metadata": {},
   "outputs": [],
   "source": [
    "# Generic testing\n",
    "%load_ext autoreload\n",
    "%autoreload 2"
   ]
  },
  {
   "cell_type": "code",
   "execution_count": 2,
   "metadata": {},
   "outputs": [
    {
     "name": "stderr",
     "output_type": "stream",
     "text": [
      "ftfy or spacy is not installed using BERT BasicTokenizer instead of SpaCy & ftfy.\n",
      "ftfy or spacy is not installed using BERT BasicTokenizer instead of SpaCy & ftfy.\n"
     ]
    }
   ],
   "source": [
    "from blackmirror.generate import *"
   ]
  },
  {
   "cell_type": "code",
   "execution_count": 3,
   "metadata": {},
   "outputs": [],
   "source": [
    "user_ctx = {\n",
    "    'id': '3842793487',\n",
    "    'first_name': 'Ville',\n",
    "    'last_name': 'Toiviainen',\n",
    "    'image': '/Users/andreas/Desktop/test.jpg',\n",
    "    'keywords': {\n",
    "        'movie': ['lol']\n",
    "    }\n",
    "}"
   ]
  },
  {
   "cell_type": "code",
   "execution_count": 4,
   "metadata": {},
   "outputs": [
    {
     "data": {
      "text/plain": [
       "{'user': {'id': '3842793487',\n",
       "  'first_name': 'Ville',\n",
       "  'last_name': 'Toiviainen',\n",
       "  'image': '/Users/andreas/Desktop/test.jpg',\n",
       "  'keywords': {'movie': ['lol']}},\n",
       " 'post': {'user': {'first_name': 'William',\n",
       "   'last_name': 'Ford',\n",
       "   'image': '/Users/andreas/projects/github/blackmirror/blackmirror/templates/template_cache/source_image/male/000081.jpg'},\n",
       "  'content': {'text:': \"I don't know about you guys but Ville seems to be a real douche\",\n",
       "   'image': '',\n",
       "   'like_count': 24,\n",
       "   'timestamp_ms_created': 1573966399955}},\n",
       " 'comments': [{'user': {'first_name': 'Dwain',\n",
       "    'last_name': 'Webb',\n",
       "    'image': '/Users/andreas/projects/github/blackmirror/blackmirror/templates/template_cache/source_image/male/000100.jpg'},\n",
       "   'content': {'text': 'Not that bad...NOT',\n",
       "    'image': '',\n",
       "    'like_count': 5,\n",
       "    'timestamp_ms_created': 1573966399955}},\n",
       "  {'user': {'first_name': 'William',\n",
       "    'last_name': 'Ford',\n",
       "    'image': '/Users/andreas/projects/github/blackmirror/blackmirror/templates/template_cache/source_image/male/000081.jpg'},\n",
       "   'content': {'text': 'haha',\n",
       "    'image': '',\n",
       "    'like_count': 7,\n",
       "    'timestamp_ms_created': 1573966369955}},\n",
       "  {'user': {'first_name': 'Dwain',\n",
       "    'last_name': 'Webb',\n",
       "    'image': '/Users/andreas/projects/github/blackmirror/blackmirror/templates/template_cache/source_image/male/000100.jpg'},\n",
       "   'content': {'text': 'Yeah... way to live a life',\n",
       "    'image': '',\n",
       "    'like_count': 9,\n",
       "    'timestamp_ms_created': 1573966339955}}]}"
      ]
     },
     "execution_count": 4,
     "metadata": {},
     "output_type": "execute_result"
    }
   ],
   "source": [
    "post_ctx = generate_targeted_post(user_ctx)\n",
    "post_ctx"
   ]
  },
  {
   "cell_type": "code",
   "execution_count": 7,
   "metadata": {},
   "outputs": [
    {
     "data": {
      "text/plain": [
       "{'user': {'first_name': 'William',\n",
       "  'last_name': 'Ford',\n",
       "  'image': '/Users/andreas/projects/github/blackmirror/blackmirror/templates/template_cache/source_image/male/000081.jpg'},\n",
       " 'content': {'text': \"i'm 32 years of age, i don't know how to live like that\",\n",
       "  'image': '',\n",
       "  'like_count': 1,\n",
       "  'timestamp_ms_created': 1573966415676}}"
      ]
     },
     "execution_count": 7,
     "metadata": {},
     "output_type": "execute_result"
    }
   ],
   "source": [
    "generate_reply(post_ctx)"
   ]
  },
  {
   "cell_type": "code",
   "execution_count": null,
   "metadata": {},
   "outputs": [],
   "source": []
  }
 ],
 "metadata": {
  "kernelspec": {
   "display_name": "Python 3",
   "language": "python",
   "name": "python3"
  },
  "language_info": {
   "codemirror_mode": {
    "name": "ipython",
    "version": 3
   },
   "file_extension": ".py",
   "mimetype": "text/x-python",
   "name": "python",
   "nbconvert_exporter": "python",
   "pygments_lexer": "ipython3",
   "version": "3.6.5"
  }
 },
 "nbformat": 4,
 "nbformat_minor": 2
}
