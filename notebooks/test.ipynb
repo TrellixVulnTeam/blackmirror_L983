{
 "cells": [
  {
   "cell_type": "code",
   "execution_count": 1,
   "metadata": {},
   "outputs": [],
   "source": [
    "# Generic testing\n",
    "%load_ext autoreload\n",
    "%autoreload 2"
   ]
  },
  {
   "cell_type": "code",
   "execution_count": 2,
   "metadata": {},
   "outputs": [],
   "source": [
    "from blackmirror.generate import *"
   ]
  },
  {
   "cell_type": "code",
   "execution_count": 5,
   "metadata": {},
   "outputs": [],
   "source": [
    "user_ctx = {\n",
    "    'id': '3842793487',\n",
    "    'first_name': 'Ville',\n",
    "    'last_name': 'Toiviainen',\n",
    "    'image': '/Users/andreas/Desktop/test.jpg',\n",
    "    'keywords': {\n",
    "        'category': []\n",
    "    }\n",
    "}"
   ]
  },
  {
   "cell_type": "code",
   "execution_count": 6,
   "metadata": {},
   "outputs": [
    {
     "data": {
      "text/plain": [
       "{'user': {'id': '3842793487',\n",
       "  'first_name': 'Ville',\n",
       "  'last_name': 'Toiviainen',\n",
       "  'image': '/Users/andreas/Desktop/test.jpg',\n",
       "  'keywords': {'category': []}},\n",
       " 'post': {'user': {'first_name': 'Marjorie',\n",
       "   'last_name': 'Vu',\n",
       "   'image': '/Users/andreas/projects/github/blackmirror/blackmirror/templates/template_cache/source_image/female/010021.jpg'},\n",
       "  'content': {'text:': 'In todays news is the arrest of hacking suspects identified as hector xavier monsegur and luis alberto guterres of the world famous crypto-currencies exchange mt gox.',\n",
       "   'image': '',\n",
       "   'like_count': 14,\n",
       "   'timestamp_ms_created': 1573962849885}},\n",
       " 'comments': [{'user': {'first_name': 'Jesse',\n",
       "    'last_name': 'Serrano',\n",
       "    'image': '/Users/andreas/projects/github/blackmirror/blackmirror/templates/template_cache/source_image/male/000046.jpg'},\n",
       "   'content': {'text:': 'Bittrex is the best',\n",
       "    'image': '',\n",
       "    'like_count': 10,\n",
       "    'timestamp_ms_created': 1573962789885}},\n",
       "  {'user': {'first_name': 'Patricia',\n",
       "    'last_name': 'Ramon',\n",
       "    'image': '/Users/andreas/projects/github/blackmirror/blackmirror/templates/template_cache/source_image/female/010129.jpg'},\n",
       "   'content': {'text:': 'Like said before, a pyramid scheme',\n",
       "    'image': '',\n",
       "    'like_count': 3,\n",
       "    'timestamp_ms_created': 1573962819885}},\n",
       "  {'user': {'first_name': 'Candy',\n",
       "    'last_name': 'Ferguson',\n",
       "    'image': '/Users/andreas/projects/github/blackmirror/blackmirror/templates/template_cache/source_image/female/010110.jpg'},\n",
       "   'content': {'text:': 'Bitcoin to the moon',\n",
       "    'image': '',\n",
       "    'like_count': 10,\n",
       "    'timestamp_ms_created': 1573962849885}}]}"
      ]
     },
     "execution_count": 6,
     "metadata": {},
     "output_type": "execute_result"
    }
   ],
   "source": [
    "generate_generic_post(user_ctx)"
   ]
  },
  {
   "cell_type": "code",
   "execution_count": null,
   "metadata": {},
   "outputs": [],
   "source": []
  }
 ],
 "metadata": {
  "kernelspec": {
   "display_name": "Python 3",
   "language": "python",
   "name": "python3"
  },
  "language_info": {
   "codemirror_mode": {
    "name": "ipython",
    "version": 3
   },
   "file_extension": ".py",
   "mimetype": "text/x-python",
   "name": "python",
   "nbconvert_exporter": "python",
   "pygments_lexer": "ipython3",
   "version": "3.6.5"
  }
 },
 "nbformat": 4,
 "nbformat_minor": 2
}
