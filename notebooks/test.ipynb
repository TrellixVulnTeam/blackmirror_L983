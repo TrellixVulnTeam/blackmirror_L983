{
 "cells": [
  {
   "cell_type": "code",
   "execution_count": 1,
   "metadata": {},
   "outputs": [],
   "source": [
    "# Generic testing\n",
    "%load_ext autoreload\n",
    "%autoreload 2"
   ]
  },
  {
   "cell_type": "code",
   "execution_count": 2,
   "metadata": {},
   "outputs": [],
   "source": [
    "from blackmirror.generate import *"
   ]
  },
  {
   "cell_type": "code",
   "execution_count": 5,
   "metadata": {},
   "outputs": [],
   "source": [
    "EXAMPLE_USER_CONTEXT = {\n",
    "    'id': '3842793487',\n",
    "    'first_name': 'Ville',\n",
    "    'last_name': 'Toiviainen',\n",
    "    'image': '/Users/andreas/Desktop/test.jpg',\n",
    "    'keywords': {\n",
    "        'category': []\n",
    "    }\n",
    "}"
   ]
  },
  {
   "cell_type": "code",
   "execution_count": 4,
   "metadata": {},
   "outputs": [
    {
     "data": {
      "text/plain": [
       "{'user': {'first_name': 'Marilynn',\n",
       "  'last_name': 'Ames',\n",
       "  'image': '/Users/andreas/projects/github/blackmirror/blackmirror/templates/template_cache/source_image/female/010126.jpg'},\n",
       " 'content': {'text:': 'this is a test',\n",
       "  'image': '',\n",
       "  'like_count': 2,\n",
       "  'timestamp_ms_created': 1573957346204}}"
      ]
     },
     "execution_count": 4,
     "metadata": {},
     "output_type": "execute_result"
    }
   ],
   "source": [
    "create_comment_context(random.choice(PERSONAS_ACTIVE), 'this is a test')"
   ]
  },
  {
   "cell_type": "code",
   "execution_count": 7,
   "metadata": {},
   "outputs": [
    {
     "data": {
      "text/plain": [
       "{'user': {'id': '3842793487',\n",
       "  'first_name': 'Ville',\n",
       "  'last_name': 'Toiviainen',\n",
       "  'image': '/Users/andreas/Desktop/test.jpg',\n",
       "  'keywords': {'category': []}},\n",
       " 'post': {'user': {'first_name': 'Edward',\n",
       "   'last_name': 'Bastarache',\n",
       "   'image': '/Users/andreas/projects/github/blackmirror/blackmirror/templates/template_cache/source_image/male/000048.jpg'},\n",
       "  'content': {'text:': 'this is a test',\n",
       "   'image': '',\n",
       "   'like_count': 24,\n",
       "   'timestamp_ms_created': 1573957559754}},\n",
       " 'comments': []}"
      ]
     },
     "execution_count": 7,
     "metadata": {},
     "output_type": "execute_result"
    }
   ],
   "source": [
    "create_post_context(EXAMPLE_USER_CONTEXT, random.choice(PERSONAS_ACTIVE), text='this is a test')"
   ]
  },
  {
   "cell_type": "code",
   "execution_count": null,
   "metadata": {},
   "outputs": [],
   "source": []
  }
 ],
 "metadata": {
  "kernelspec": {
   "display_name": "Python 3",
   "language": "python",
   "name": "python3"
  },
  "language_info": {
   "codemirror_mode": {
    "name": "ipython",
    "version": 3
   },
   "file_extension": ".py",
   "mimetype": "text/x-python",
   "name": "python",
   "nbconvert_exporter": "python",
   "pygments_lexer": "ipython3",
   "version": "3.6.5"
  }
 },
 "nbformat": 4,
 "nbformat_minor": 2
}
