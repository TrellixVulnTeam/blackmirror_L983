{
 "cells": [
  {
   "cell_type": "code",
   "execution_count": 1,
   "metadata": {},
   "outputs": [],
   "source": [
    "%load_ext autoreload\n",
    "%autoreload 2"
   ]
  },
  {
   "cell_type": "code",
   "execution_count": 2,
   "metadata": {},
   "outputs": [
    {
     "name": "stderr",
     "output_type": "stream",
     "text": [
      "Using TensorFlow backend.\n"
     ]
    }
   ],
   "source": [
    "from blackmirror.models.RNN.data import *\n",
    "from blackmirror.models.RNN.clf import *\n",
    "from blackmirror.textutils import *"
   ]
  },
  {
   "cell_type": "markdown",
   "metadata": {},
   "source": [
    "# Datasets"
   ]
  },
  {
   "cell_type": "code",
   "execution_count": 3,
   "metadata": {},
   "outputs": [
    {
     "data": {
      "text/plain": [
       "(159571, 9)"
      ]
     },
     "execution_count": 3,
     "metadata": {},
     "output_type": "execute_result"
    }
   ],
   "source": [
    "df = pd.read_csv('../data/wiki-train-v1.0.csv')\n",
    "df.loc[:, 'normal'] = 0\n",
    "df.loc[\n",
    " (df.toxic == 0) & \\\n",
    " (df.severe_toxic == 0) & \\\n",
    " (df.obscene == 0) & \\\n",
    " (df.threat == 0) & \\\n",
    " (df.insult == 0) & \\\n",
    " (df.identity_hate == 0), 'normal'] = 1\n",
    "df.shape"
   ]
  },
  {
   "cell_type": "code",
   "execution_count": 4,
   "metadata": {},
   "outputs": [],
   "source": [
    "sentences_insults = build_sentences('\\n'.join(df[df.normal != 1].comment_text))\n",
    "sentences_normal = build_sentences('\\n'.join(df[df.normal == 1].sample(len(sentences_insults)).comment_text))\n",
    "tokenizers = create_tokenizers(' '.join(sentences_normal))"
   ]
  },
  {
   "cell_type": "code",
   "execution_count": 5,
   "metadata": {},
   "outputs": [
    {
     "data": {
      "text/plain": [
       "((64430, 128), (64430, 1))"
      ]
     },
     "execution_count": 5,
     "metadata": {},
     "output_type": "execute_result"
    }
   ],
   "source": [
    "features = np.concatenate([\n",
    "    build_sentence_features(sentences_insults, *tokenizers),\n",
    "    build_sentence_features(sentences_normal, *tokenizers),\n",
    "])\n",
    "labels = np.concatenate([\n",
    "    np.ones((len(sentences_insults), 1)),\n",
    "    np.zeros((len(sentences_normal), 1)),\n",
    "])\n",
    "features.shape, labels.shape"
   ]
  },
  {
   "cell_type": "markdown",
   "metadata": {},
   "source": [
    "# Insult classifier"
   ]
  },
  {
   "cell_type": "code",
   "execution_count": 6,
   "metadata": {},
   "outputs": [],
   "source": [
    "batch_size = 64"
   ]
  },
  {
   "cell_type": "code",
   "execution_count": 7,
   "metadata": {},
   "outputs": [],
   "source": [
    "X_train, X_test, Y_train, Y_test = train_test_split(\n",
    "    features,\n",
    "    labels,\n",
    "    shuffle=True\n",
    ")"
   ]
  },
  {
   "cell_type": "code",
   "execution_count": 8,
   "metadata": {},
   "outputs": [],
   "source": [
    "#X_train = X_train[:-(X_train.shape[0] % 64)]\n",
    "#Y_train = Y_train[:-(Y_train.shape[0] % 64)]"
   ]
  },
  {
   "cell_type": "code",
   "execution_count": 9,
   "metadata": {},
   "outputs": [
    {
     "name": "stdout",
     "output_type": "stream",
     "text": [
      "WARNING:tensorflow:From /Users/andreas/.venv/junction/lib/python3.6/site-packages/tensorflow/python/ops/resource_variable_ops.py:435: colocate_with (from tensorflow.python.framework.ops) is deprecated and will be removed in a future version.\n",
      "Instructions for updating:\n",
      "Colocations handled automatically by placer.\n",
      "_________________________________________________________________\n",
      "Layer (type)                 Output Shape              Param #   \n",
      "=================================================================\n",
      "embedding (Embedding)        (None, None, 256)         16384     \n",
      "_________________________________________________________________\n",
      "gru (GRU)                    (None, 32)                27744     \n",
      "_________________________________________________________________\n",
      "dense (Dense)                (None, 1)                 33        \n",
      "=================================================================\n",
      "Total params: 44,161\n",
      "Trainable params: 44,161\n",
      "Non-trainable params: 0\n",
      "_________________________________________________________________\n"
     ]
    }
   ],
   "source": [
    "clf = create_classifier(\n",
    "    len(tokenizers[0]),\n",
    "    batch_size=batch_size,\n",
    "    rnn_units=32,\n",
    "    embedding_dim=256\n",
    ")\n",
    "clf.summary()"
   ]
  },
  {
   "cell_type": "code",
   "execution_count": 10,
   "metadata": {},
   "outputs": [],
   "source": [
    "clf.compile(\n",
    "    loss='binary_crossentropy',\n",
    "    optimizer='adam',\n",
    "    metrics=['accuracy']\n",
    ")"
   ]
  },
  {
   "cell_type": "code",
   "execution_count": 11,
   "metadata": {},
   "outputs": [
    {
     "name": "stdout",
     "output_type": "stream",
     "text": [
      "Train on 48322 samples, validate on 16108 samples\n",
      "WARNING:tensorflow:From /Users/andreas/.venv/junction/lib/python3.6/site-packages/tensorflow/python/ops/math_ops.py:3066: to_int32 (from tensorflow.python.ops.math_ops) is deprecated and will be removed in a future version.\n",
      "Instructions for updating:\n",
      "Use tf.cast instead.\n",
      "Epoch 1/10\n",
      "48322/48322 [==============================] - 82s 2ms/sample - loss: 0.6762 - acc: 0.5781 - val_loss: 0.6162 - val_acc: 0.6790\n",
      "Epoch 2/10\n",
      "48322/48322 [==============================] - 75s 2ms/sample - loss: 0.5209 - acc: 0.7484 - val_loss: 0.4936 - val_acc: 0.7680\n",
      "Epoch 3/10\n",
      "48322/48322 [==============================] - 80s 2ms/sample - loss: 0.4649 - acc: 0.7822 - val_loss: 0.4622 - val_acc: 0.7811\n",
      "Epoch 4/10\n",
      "48322/48322 [==============================] - 83s 2ms/sample - loss: 0.4406 - acc: 0.7934 - val_loss: 0.4398 - val_acc: 0.7899\n",
      "Epoch 5/10\n",
      "48322/48322 [==============================] - 82s 2ms/sample - loss: 0.4264 - acc: 0.8029 - val_loss: 0.4386 - val_acc: 0.7940\n",
      "Epoch 6/10\n",
      "48322/48322 [==============================] - 80s 2ms/sample - loss: 0.4125 - acc: 0.8116 - val_loss: 0.4191 - val_acc: 0.8046\n",
      "Epoch 7/10\n",
      "48322/48322 [==============================] - 83s 2ms/sample - loss: 0.4014 - acc: 0.8167 - val_loss: 0.4146 - val_acc: 0.8092\n",
      "Epoch 8/10\n",
      "48322/48322 [==============================] - 77s 2ms/sample - loss: 0.3913 - acc: 0.8227 - val_loss: 0.4079 - val_acc: 0.8128\n",
      "Epoch 9/10\n",
      "48322/48322 [==============================] - 77s 2ms/sample - loss: 0.3817 - acc: 0.8282 - val_loss: 0.4099 - val_acc: 0.8139\n",
      "Epoch 10/10\n",
      "48322/48322 [==============================] - 77s 2ms/sample - loss: 0.3747 - acc: 0.8312 - val_loss: 0.3967 - val_acc: 0.8195\n"
     ]
    }
   ],
   "source": [
    "history = clf.fit(\n",
    "    X_train,\n",
    "    Y_train,\n",
    "    epochs=10,\n",
    "    batch_size=batch_size,\n",
    "    validation_data=(X_test, Y_test)\n",
    ")"
   ]
  },
  {
   "cell_type": "code",
   "execution_count": 12,
   "metadata": {},
   "outputs": [],
   "source": [
    "import matplotlib.pyplot as plt\n",
    "plt.style.use('ggplot')\n",
    "\n",
    "def plot_history(history):\n",
    "    acc = history.history['acc']\n",
    "    val_acc = history.history['val_acc']\n",
    "    loss = history.history['loss']\n",
    "    val_loss = history.history['val_loss']\n",
    "    x = range(1, len(acc) + 1)\n",
    "\n",
    "    plt.figure(figsize=(12, 5))\n",
    "    plt.subplot(1, 2, 1)\n",
    "    plt.plot(x, acc, 'b', label='Training acc')\n",
    "    plt.plot(x, val_acc, 'r', label='Validation acc')\n",
    "    plt.title('Training and validation accuracy')\n",
    "    plt.legend()\n",
    "    plt.subplot(1, 2, 2)\n",
    "    plt.plot(x, loss, 'b', label='Training loss')\n",
    "    plt.plot(x, val_loss, 'r', label='Validation loss')\n",
    "    plt.title('Training and validation loss')\n",
    "    plt.legend()"
   ]
  },
  {
   "cell_type": "code",
   "execution_count": 13,
   "metadata": {},
   "outputs": [
    {
     "data": {
      "image/png": "[encoded data removed]",
      "text/plain": [
       "<Figure size 864x360 with 2 Axes>"
      ]
     },
     "metadata": {
      "needs_background": "light"
     },
     "output_type": "display_data"
    }
   ],
   "source": [
    "plot_history(history)"
   ]
  },
  {
   "cell_type": "code",
   "execution_count": 23,
   "metadata": {},
   "outputs": [
    {
     "data": {
      "text/plain": [
       "array([[0.06739229],\n",
       "       [0.4549461 ],\n",
       "       [0.03355372],\n",
       "       [0.08168611],\n",
       "       [0.11071074],\n",
       "       [0.08131734],\n",
       "       [0.07967222],\n",
       "       [0.9884271 ],\n",
       "       [0.41821107],\n",
       "       [0.05658707]], dtype=float32)"
      ]
     },
     "execution_count": 23,
     "metadata": {},
     "output_type": "execute_result"
    }
   ],
   "source": [
    "clf.predict(X_test[:10])"
   ]
  },
  {
   "cell_type": "code",
   "execution_count": 15,
   "metadata": {},
   "outputs": [
    {
     "data": {
      "text/plain": [
       "'are NPOV. Again, it is clear that you are not interested in factual accuracy in the article.'"
      ]
     },
     "execution_count": 15,
     "metadata": {},
     "output_type": "execute_result"
    }
   ],
   "source": [
    "''.join([tokenizers[1][c] for c in X_test[0]]).strip()"
   ]
  },
  {
   "cell_type": "code",
   "execution_count": 16,
   "metadata": {},
   "outputs": [
    {
     "data": {
      "text/plain": [
       "'The mission turning back to Rome is not explained. Is there a significance to what happened?'"
      ]
     },
     "execution_count": 16,
     "metadata": {},
     "output_type": "execute_result"
    }
   ],
   "source": [
    "''.join([tokenizers[1][c] for c in X_test[2]]).strip()"
   ]
  },
  {
   "cell_type": "code",
   "execution_count": 17,
   "metadata": {},
   "outputs": [],
   "source": [
    "import joblib\n",
    "dialogues = joblib.load('../data/dialogues.bin')"
   ]
  },
  {
   "cell_type": "code",
   "execution_count": 18,
   "metadata": {},
   "outputs": [],
   "source": [
    "responses = [ d[1] for d in dialogues ]\n",
    "responses = build_sentences('\\n'.join(responses).replace('\\t', ' '))\n",
    "responses_tokens = build_sentence_features(responses, *tokenizers)"
   ]
  },
  {
   "cell_type": "code",
   "execution_count": 19,
   "metadata": {},
   "outputs": [
    {
     "name": "stdout",
     "output_type": "stream",
     "text": [
      "CPU times: user 5min 3s, sys: 53.5 s, total: 5min 56s\n",
      "Wall time: 1min 59s\n"
     ]
    }
   ],
   "source": [
    "%%time\n",
    "scores = clf.predict(responses_tokens)"
   ]
  },
  {
   "cell_type": "code",
   "execution_count": 43,
   "metadata": {},
   "outputs": [],
   "source": [
    "threshold = 0.99"
   ]
  },
  {
   "cell_type": "code",
   "execution_count": 44,
   "metadata": {},
   "outputs": [
    {
     "data": {
      "text/plain": [
       "3104"
      ]
     },
     "execution_count": 44,
     "metadata": {},
     "output_type": "execute_result"
    }
   ],
   "source": [
    "responses_offensive = []\n",
    "for idx in np.where(scores > threshold)[0]:\n",
    "    responses_offensive.append(dialogues[idx])\n",
    "len(responses_offensive)"
   ]
  },
  {
   "cell_type": "code",
   "execution_count": 52,
   "metadata": {},
   "outputs": [
    {
     "data": {
      "text/plain": [
       "['Whales, Scotty. 45 to 50 feet long; about 40 tons a piece.',\n",
       " 'Admiral - how am I going to handle all that weight?']"
      ]
     },
     "execution_count": 52,
     "metadata": {},
     "output_type": "execute_result"
    }
   ],
   "source": [
    "responses_offensive[1200]"
   ]
  },
  {
   "cell_type": "code",
   "execution_count": null,
   "metadata": {},
   "outputs": [],
   "source": []
  }
 ],
 "metadata": {
  "kernelspec": {
   "display_name": "Python 3",
   "language": "python",
   "name": "python3"
  },
  "language_info": {
   "codemirror_mode": {
    "name": "ipython",
    "version": 3
   },
   "file_extension": ".py",
   "mimetype": "text/x-python",
   "name": "python",
   "nbconvert_exporter": "python",
   "pygments_lexer": "ipython3",
   "version": "3.6.5"
  }
 },
 "nbformat": 4,
 "nbformat_minor": 2
}
